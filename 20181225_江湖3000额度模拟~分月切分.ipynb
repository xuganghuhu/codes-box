{
 "cells": [
  {
   "cell_type": "code",
   "execution_count": 1,
   "metadata": {},
   "outputs": [],
   "source": [
    "import numpy as np\n",
    "import pandas as pd\n",
    "import matplotlib.pyplot as plt\n",
    "import seaborn as sns\n",
    "import sklearn.tree\n",
    "import seaborn as sns\n",
    "from scipy import stats\n",
    "\n",
    "from sklearn.model_selection import train_test_split"
   ]
  },
  {
   "cell_type": "code",
   "execution_count": 2,
   "metadata": {},
   "outputs": [],
   "source": [
    "data=pd.read_csv('E:\\\\pydata\\\\jhjj_PQR\\\\jhjj_pqr.csv',encoding='gbk')"
   ]
  },
  {
   "cell_type": "code",
   "execution_count": 3,
   "metadata": {
    "scrolled": true
   },
   "outputs": [],
   "source": [
    "#data[data['contract_amt']!=data['amt_fix']]"
   ]
  },
  {
   "cell_type": "code",
   "execution_count": 4,
   "metadata": {},
   "outputs": [
    {
     "data": {
      "text/plain": [
       "Index(['Unnamed: 0', 'data_date', 'CONTRACTNO', 'odd', 'cts', 'bal',\n",
       "       'bal_corpus', 'contract_id', 'apply_type', 'regist_utm_source',\n",
       "       'apply_utm_source', 'age', 'sex', 'score', 'main_model_score',\n",
       "       'model_id', 'apply_time', 'month_apply', 'day_apply', 'mob',\n",
       "       'score_cut', 'age_cut', 'channel_reg', 'num', 'od30', 'od30_bal',\n",
       "       'contract_amt'],\n",
       "      dtype='object')"
      ]
     },
     "execution_count": 4,
     "metadata": {},
     "output_type": "execute_result"
    }
   ],
   "source": [
    "data.columns"
   ]
  },
  {
   "cell_type": "markdown",
   "metadata": {},
   "source": [
    "## 设计score切点值"
   ]
  },
  {
   "cell_type": "code",
   "execution_count": 14,
   "metadata": {
    "scrolled": true
   },
   "outputs": [
    {
     "data": {
      "text/html": [
       "<div>\n",
       "<style scoped>\n",
       "    .dataframe tbody tr th:only-of-type {\n",
       "        vertical-align: middle;\n",
       "    }\n",
       "\n",
       "    .dataframe tbody tr th {\n",
       "        vertical-align: top;\n",
       "    }\n",
       "\n",
       "    .dataframe thead th {\n",
       "        text-align: right;\n",
       "    }\n",
       "</style>\n",
       "<table border=\"1\" class=\"dataframe\">\n",
       "  <thead>\n",
       "    <tr style=\"text-align: right;\">\n",
       "      <th></th>\n",
       "      <th>month_apply</th>\n",
       "      <th>score_point_cut</th>\n",
       "    </tr>\n",
       "  </thead>\n",
       "  <tbody>\n",
       "    <tr>\n",
       "      <th>0</th>\n",
       "      <td>2018-05-01</td>\n",
       "      <td>869.0</td>\n",
       "    </tr>\n",
       "    <tr>\n",
       "      <th>1</th>\n",
       "      <td>2018-08-01</td>\n",
       "      <td>909.0</td>\n",
       "    </tr>\n",
       "    <tr>\n",
       "      <th>2</th>\n",
       "      <td>2018-06-01</td>\n",
       "      <td>884.0</td>\n",
       "    </tr>\n",
       "    <tr>\n",
       "      <th>3</th>\n",
       "      <td>2018-10-01</td>\n",
       "      <td>895.0</td>\n",
       "    </tr>\n",
       "    <tr>\n",
       "      <th>4</th>\n",
       "      <td>2018-11-01</td>\n",
       "      <td>893.0</td>\n",
       "    </tr>\n",
       "    <tr>\n",
       "      <th>5</th>\n",
       "      <td>2018-07-01</td>\n",
       "      <td>898.0</td>\n",
       "    </tr>\n",
       "    <tr>\n",
       "      <th>6</th>\n",
       "      <td>2018-09-01</td>\n",
       "      <td>888.0</td>\n",
       "    </tr>\n",
       "    <tr>\n",
       "      <th>7</th>\n",
       "      <td>2018-04-01</td>\n",
       "      <td>851.0</td>\n",
       "    </tr>\n",
       "    <tr>\n",
       "      <th>8</th>\n",
       "      <td>2018-03-01</td>\n",
       "      <td>867.0</td>\n",
       "    </tr>\n",
       "    <tr>\n",
       "      <th>9</th>\n",
       "      <td>2018-01-01</td>\n",
       "      <td>0.0</td>\n",
       "    </tr>\n",
       "    <tr>\n",
       "      <th>10</th>\n",
       "      <td>2018-02-01</td>\n",
       "      <td>889.0</td>\n",
       "    </tr>\n",
       "  </tbody>\n",
       "</table>\n",
       "</div>"
      ],
      "text/plain": [
       "   month_apply  score_point_cut\n",
       "0   2018-05-01            869.0\n",
       "1   2018-08-01            909.0\n",
       "2   2018-06-01            884.0\n",
       "3   2018-10-01            895.0\n",
       "4   2018-11-01            893.0\n",
       "5   2018-07-01            898.0\n",
       "6   2018-09-01            888.0\n",
       "7   2018-04-01            851.0\n",
       "8   2018-03-01            867.0\n",
       "9   2018-01-01              0.0\n",
       "10  2018-02-01            889.0"
      ]
     },
     "execution_count": 14,
     "metadata": {},
     "output_type": "execute_result"
    }
   ],
   "source": [
    "## 计算score的切值    先合并contract信息\n",
    "dat_amt_fix=data.loc[:,['contract_id','score','month_apply','apply_type']][(data['mob']==0)&(data['apply_type']=='再贷')]\n",
    "dat_amt_fix=dat_amt_fix.sort_values('score',ascending=False)\n",
    "dat_amt_fix=dat_amt_fix.set_index(np.arange(len(dat_amt_fix['contract_id'])))\n",
    "#dat_amt_fix\n",
    "\n",
    "## 计算不同月份不同头部客户的分数 \n",
    "mon_list=list(dat_amt_fix['month_apply'].unique())\n",
    "\n",
    "rate=0.5\n",
    "mon=[]\n",
    "score_cut_p=[]\n",
    "for i in mon_list:\n",
    "    dat_mon_cut=dat_amt_fix[(dat_amt_fix['month_apply']==i)]# & (dat_amt_fix['score']>0)]\n",
    "    dat_mon_cut=dat_mon_cut.sort_values('score',ascending=False)\n",
    "    dat_mon_cut=dat_mon_cut.set_index(np.arange(len(dat_mon_cut['contract_id'])))\n",
    "    score_cutpoint=dat_mon_cut.loc[int(len(dat_mon_cut['contract_id'])*rate),'score']\n",
    "    mon.append(i)\n",
    "    score_cut_p.append(score_cutpoint)\n",
    "\n",
    "dat_ind_score_cut=pd.DataFrame({'month_apply':mon,'score_point_cut':score_cut_p})\n",
    "dat_ind_score_cut"
   ]
  },
  {
   "cell_type": "code",
   "execution_count": 6,
   "metadata": {},
   "outputs": [],
   "source": [
    "## 用随机种子的方式筛选愿意接受提额的客户\n",
    "#x=data\n",
    "#y=data['num']\n",
    "#x_train,x_test,y_train,y_test = train_test_split(x, y, test_size=0.25, random_state=0)\n",
    "\n",
    "#print(x_train.shape)\n",
    "#print(x_test.shape)\n",
    "#print(y_train.shape)\n",
    "#rint(y_test.shape)"
   ]
  },
  {
   "cell_type": "markdown",
   "metadata": {},
   "source": [
    "## 变量整理与新变量生成"
   ]
  },
  {
   "cell_type": "code",
   "execution_count": 7,
   "metadata": {},
   "outputs": [],
   "source": [
    "data1=pd.merge(data,dat_ind_score_cut)\n",
    "data=data1\n",
    "\n",
    "data['amt_fix']=data.apply(lambda hxg:3000 if (hxg['apply_type']=='再贷') & (hxg['score']>hxg['score_point_cut'])\n",
    "                          else hxg['contract_amt'],axis=1)\n",
    "#data['bal_fix']=data.apply(lambda hxg:hxg['bal']*hxg['amt_fix']/hxg['contract_amt'],axis=1)\n",
    "\n",
    "data['bal_fix']=data['bal']*data['amt_fix']/data['contract_amt']\n",
    "data['od30_bal_fix']=data['bal_fix']*data['od30']"
   ]
  },
  {
   "cell_type": "code",
   "execution_count": 8,
   "metadata": {},
   "outputs": [
    {
     "data": {
      "text/plain": [
       "Index(['Unnamed: 0', 'data_date', 'CONTRACTNO', 'odd', 'cts', 'bal',\n",
       "       'bal_corpus', 'contract_id', 'apply_type', 'regist_utm_source',\n",
       "       'apply_utm_source', 'age', 'sex', 'score', 'main_model_score',\n",
       "       'model_id', 'apply_time', 'month_apply', 'day_apply', 'mob',\n",
       "       'score_cut', 'age_cut', 'channel_reg', 'num', 'od30', 'od30_bal',\n",
       "       'contract_amt', 'score_point_cut', 'amt_fix', 'bal_fix',\n",
       "       'od30_bal_fix'],\n",
       "      dtype='object')"
      ]
     },
     "execution_count": 8,
     "metadata": {},
     "output_type": "execute_result"
    }
   ],
   "source": [
    "data.columns"
   ]
  },
  {
   "cell_type": "markdown",
   "metadata": {},
   "source": [
    "## 聚合瘦身"
   ]
  },
  {
   "cell_type": "code",
   "execution_count": 11,
   "metadata": {},
   "outputs": [],
   "source": [
    "# 聚合\n",
    "groupby_key=['data_date','odd','cts','apply_type','sex','model_id','month_apply','score_cut','age_cut','channel_reg','mob']\n",
    "dat_grp=data.groupby(by=groupby_key,as_index=False).agg({'bal_corpus':sum,'num':sum,'od30':sum,'od30_bal':sum,'bal_fix':sum,'contract_amt':sum,'amt_fix':sum,'od30_bal_fix':sum})\n"
   ]
  },
  {
   "cell_type": "code",
   "execution_count": 12,
   "metadata": {},
   "outputs": [],
   "source": [
    "## 导出聚合CSV\n",
    "dat_grp.to_csv('E:\\\\pydata\\\\jhjj_3000\\\\jhjj3000_grp.csv',encoding='gbk')"
   ]
  },
  {
   "cell_type": "code",
   "execution_count": null,
   "metadata": {},
   "outputs": [],
   "source": []
  },
  {
   "cell_type": "code",
   "execution_count": null,
   "metadata": {},
   "outputs": [],
   "source": []
  }
 ],
 "metadata": {
  "kernelspec": {
   "display_name": "Python 3",
   "language": "python",
   "name": "python3"
  },
  "language_info": {
   "codemirror_mode": {
    "name": "ipython",
    "version": 3
   },
   "file_extension": ".py",
   "mimetype": "text/x-python",
   "name": "python",
   "nbconvert_exporter": "python",
   "pygments_lexer": "ipython3",
   "version": "3.6.4"
  }
 },
 "nbformat": 4,
 "nbformat_minor": 2
}
