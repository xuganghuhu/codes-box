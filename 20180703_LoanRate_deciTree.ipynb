{
 "cells": [
  {
   "cell_type": "code",
   "execution_count": 1,
   "metadata": {},
   "outputs": [],
   "source": [
    "import numpy as np\n",
    "import pandas as pd\n",
    "import matplotlib.pyplot as plt\n",
    "import pymysql\n",
    "from sklearn import model_selection\n",
    "from sklearn import tree\n",
    "from sklearn import metrics"
   ]
  },
  {
   "cell_type": "code",
   "execution_count": 2,
   "metadata": {},
   "outputs": [],
   "source": [
    "#建立游标，读取数据\n",
    "con=pymysql.connect(host='10.100.143.243',port=3310,user='std_risk4'\\\n",
    "                   ,passwd='GTDhG3p5',db='std_risk_analysis',charset='utf8')\n",
    "cur=con.cursor()\n",
    "cur.execute('select * from std_risk_analysis.hxg_base_AppRisk')\n",
    "\n",
    "### 关闭数据库库连接 否则影响mysql的查询\n",
    "con.commit()  \n",
    "cur.close()  \n",
    "con.close() "
   ]
  },
  {
   "cell_type": "code",
   "execution_count": 3,
   "metadata": {},
   "outputs": [
    {
     "data": {
      "text/plain": [
       "Index(['transport_id', 'amt_decision_w', 'granted_amt_W6', 'granted_amt_W',\n",
       "       'amt_loan_w', 'bug_loan', 'term_byTransport_id', 'apr_byTransport_id',\n",
       "       'cnt_loan', 'amt_loan', 'month_release', 'MobDr1to3_od1',\n",
       "       'MobDr1to3_od10', 'MobDr1to3_od15', 'MobDr1to3_od30',\n",
       "       'MobDr1to3_od1_bal', 'MobDr1to3_od10_bal', 'MobDr1to3_od15_bal',\n",
       "       'MobDr1to3_od30_bal', 'MobDr1to6_od1_bal', 'MobDr1to6_od10_bal',\n",
       "       'MobDr1to6_od15_bal', 'MobDr1to6_od30_bal', 'fpd1', 'fpd15', 'fpd30',\n",
       "       'flag_loan', 'num', 'customer_name', 'gender', 'age', 'province',\n",
       "       'city', 'amt_apply_w', 'rate_dec_apl', 'initial_amt_w',\n",
       "       'fluctuate_amt_w', 'test_amt_w', 'cms_final_amt_w', 'year_decision',\n",
       "       'month_decision', 'day_decision', 'week_decision', 'max_platform',\n",
       "       'platform_import', 'rate', 'final_rate', 'final_rate_new', 'gmv12',\n",
       "       'max_active_days', 'rf_score', 'RF_score_v4', 'code_risk_policy',\n",
       "       'revolving_type_apply', 'channel', 'shop_year', 'dataloan_channel',\n",
       "       'decision_credit_type', 'cut_score_V4', 'cut_amt_granted', 'cut_gmv_12',\n",
       "       'apr_sum'],\n",
       "      dtype='object')"
      ]
     },
     "execution_count": 3,
     "metadata": {},
     "output_type": "execute_result"
    }
   ],
   "source": [
    "#查看字段名称 并形成一个字段名的list\n",
    "cur.description  \n",
    "dat=list(cur.fetchall())\n",
    "data_dict=[]\n",
    "for field in cur.description:\n",
    "    data_dict.append(field[0])\n",
    "        \n",
    "#形成数据框\n",
    "data=pd.DataFrame(dat,columns=data_dict)\n",
    "data.columns"
   ]
  },
  {
   "cell_type": "code",
   "execution_count": 4,
   "metadata": {
    "scrolled": false
   },
   "outputs": [
    {
     "data": {
      "text/html": [
       "<div>\n",
       "<style scoped>\n",
       "    .dataframe tbody tr th:only-of-type {\n",
       "        vertical-align: middle;\n",
       "    }\n",
       "\n",
       "    .dataframe tbody tr th {\n",
       "        vertical-align: top;\n",
       "    }\n",
       "\n",
       "    .dataframe thead th {\n",
       "        text-align: right;\n",
       "    }\n",
       "</style>\n",
       "<table border=\"1\" class=\"dataframe\">\n",
       "  <thead>\n",
       "    <tr style=\"text-align: right;\">\n",
       "      <th></th>\n",
       "      <th>transport_id</th>\n",
       "      <th>flag_loan</th>\n",
       "      <th>amt_decision_w</th>\n",
       "      <th>granted_amt_W6</th>\n",
       "      <th>granted_amt_W</th>\n",
       "      <th>age</th>\n",
       "      <th>amt_apply_w</th>\n",
       "      <th>gmv12</th>\n",
       "      <th>max_active_days</th>\n",
       "      <th>rf_score</th>\n",
       "      <th>RF_score_v4</th>\n",
       "    </tr>\n",
       "  </thead>\n",
       "  <tbody>\n",
       "    <tr>\n",
       "      <th>0</th>\n",
       "      <td>167563</td>\n",
       "      <td>0</td>\n",
       "      <td>5.50000000000000</td>\n",
       "      <td>4.131404255</td>\n",
       "      <td>5.5000</td>\n",
       "      <td>26</td>\n",
       "      <td>1.0000</td>\n",
       "      <td>0.0000</td>\n",
       "      <td>-1</td>\n",
       "      <td></td>\n",
       "      <td>0</td>\n",
       "    </tr>\n",
       "    <tr>\n",
       "      <th>1</th>\n",
       "      <td>98208</td>\n",
       "      <td>1</td>\n",
       "      <td>0.20000000000000</td>\n",
       "      <td>0.524166667</td>\n",
       "      <td>0.2000</td>\n",
       "      <td>22</td>\n",
       "      <td>10.0000</td>\n",
       "      <td>0.0000</td>\n",
       "      <td>-1</td>\n",
       "      <td>56</td>\n",
       "      <td>None</td>\n",
       "    </tr>\n",
       "    <tr>\n",
       "      <th>2</th>\n",
       "      <td>97949</td>\n",
       "      <td>0</td>\n",
       "      <td>103.90000000000000</td>\n",
       "      <td>103.900000000</td>\n",
       "      <td>103.9000</td>\n",
       "      <td>22</td>\n",
       "      <td>200.0000</td>\n",
       "      <td>0.0000</td>\n",
       "      <td>-1</td>\n",
       "      <td></td>\n",
       "      <td>None</td>\n",
       "    </tr>\n",
       "    <tr>\n",
       "      <th>3</th>\n",
       "      <td>130593</td>\n",
       "      <td>1</td>\n",
       "      <td>1.94864864864865</td>\n",
       "      <td>2.023404255</td>\n",
       "      <td>2.3000</td>\n",
       "      <td>22</td>\n",
       "      <td>30.0000</td>\n",
       "      <td>1153.0700</td>\n",
       "      <td>548</td>\n",
       "      <td>56</td>\n",
       "      <td>None</td>\n",
       "    </tr>\n",
       "    <tr>\n",
       "      <th>4</th>\n",
       "      <td>6822</td>\n",
       "      <td>1</td>\n",
       "      <td>10.00000000000000</td>\n",
       "      <td>7.872340426</td>\n",
       "      <td>10.0000</td>\n",
       "      <td>30</td>\n",
       "      <td>10.0000</td>\n",
       "      <td>115082.3264</td>\n",
       "      <td>3643</td>\n",
       "      <td>24</td>\n",
       "      <td>None</td>\n",
       "    </tr>\n",
       "  </tbody>\n",
       "</table>\n",
       "</div>"
      ],
      "text/plain": [
       "   transport_id  flag_loan      amt_decision_w granted_amt_W6 granted_amt_W  \\\n",
       "0        167563          0    5.50000000000000    4.131404255        5.5000   \n",
       "1         98208          1    0.20000000000000    0.524166667        0.2000   \n",
       "2         97949          0  103.90000000000000  103.900000000      103.9000   \n",
       "3        130593          1    1.94864864864865    2.023404255        2.3000   \n",
       "4          6822          1   10.00000000000000    7.872340426       10.0000   \n",
       "\n",
       "   age amt_apply_w        gmv12  max_active_days rf_score RF_score_v4  \n",
       "0   26      1.0000       0.0000               -1                    0  \n",
       "1   22     10.0000       0.0000               -1       56        None  \n",
       "2   22    200.0000       0.0000               -1                 None  \n",
       "3   22     30.0000    1153.0700              548       56        None  \n",
       "4   30     10.0000  115082.3264             3643       24        None  "
      ]
     },
     "execution_count": 4,
     "metadata": {},
     "output_type": "execute_result"
    }
   ],
   "source": [
    "dat1=data.loc[:,['transport_id','flag_loan','amt_decision_w','granted_amt_W6','granted_amt_W','age'\\\n",
    "            ,'amt_apply_w','gmv12','max_active_days','rf_score','RF_score_v4'\\\n",
    "           ]]\n",
    "dat1.head()"
   ]
  },
  {
   "cell_type": "code",
   "execution_count": 5,
   "metadata": {},
   "outputs": [],
   "source": [
    "dat1=dat1.dropna()\n",
    "dat1['rf_score']=np.where(dat1['rf_score']=='',-1,dat1['rf_score'])"
   ]
  },
  {
   "cell_type": "code",
   "execution_count": 6,
   "metadata": {},
   "outputs": [
    {
     "name": "stdout",
     "output_type": "stream",
     "text": [
      "(48819, 62)\n",
      "(39070, 62)\n",
      "(9749, 62)\n"
     ]
    }
   ],
   "source": [
    "print(data.shape)\n",
    "print(data.loc[data.flag_loan==1].shape)\n",
    "print(data.loc[data.flag_loan==0].shape)"
   ]
  },
  {
   "cell_type": "code",
   "execution_count": 7,
   "metadata": {},
   "outputs": [
    {
     "name": "stdout",
     "output_type": "stream",
     "text": [
      "(9609, 11)\n",
      "(4523, 11)\n",
      "(14132, 10)\n"
     ]
    }
   ],
   "source": [
    "## 下采样策略\n",
    "lo_a_ind=dat1.loc[data.flag_loan==1].index\n",
    "lo_a_getLow=np.random.choice(lo_a_ind,9609)\n",
    "dat1_a=dat1.loc[lo_a_getLow,:]\n",
    "dat1_b=dat1.loc[data.flag_loan==0]\n",
    "print(dat1_a.shape)\n",
    "print(dat1_b.shape)\n",
    "dat2=pd.concat([dat1_a,dat1_b],axis=0)\n",
    "dat2=dat2.drop(['transport_id'],axis=1)\n",
    "print(dat2.shape)"
   ]
  },
  {
   "cell_type": "code",
   "execution_count": 8,
   "metadata": {
    "scrolled": true
   },
   "outputs": [
    {
     "name": "stdout",
     "output_type": "stream",
     "text": [
      "(9892, 9)\n",
      "(9892, 1)\n",
      "(4240, 9)\n",
      "(4240, 1)\n"
     ]
    }
   ],
   "source": [
    "## train and test split\n",
    "dat_bas=dat2.drop(columns=['flag_loan'])\n",
    "dat_tar=dat2.loc[:,['flag_loan']]\n",
    "X_train,X_test,Y_train,Y_test=model_selection.train_test_split(dat_bas,dat_tar,test_size=0.3,random_state=555)\n",
    "print(X_train.shape)\n",
    "print(Y_train.shape)\n",
    "print(X_test.shape)\n",
    "print(Y_test.shape)"
   ]
  },
  {
   "cell_type": "code",
   "execution_count": 9,
   "metadata": {},
   "outputs": [
    {
     "data": {
      "text/plain": [
       "DecisionTreeClassifier(class_weight=None, criterion='gini', max_depth=8,\n",
       "            max_features=None, max_leaf_nodes=None,\n",
       "            min_impurity_decrease=0.0, min_impurity_split=None,\n",
       "            min_samples_leaf=1, min_samples_split=2,\n",
       "            min_weight_fraction_leaf=0.0, presort=False, random_state=None,\n",
       "            splitter='best')"
      ]
     },
     "execution_count": 9,
     "metadata": {},
     "output_type": "execute_result"
    }
   ],
   "source": [
    "dtr=tree.DecisionTreeClassifier(max_depth=8)    ##  预剪枝，调整深度\n",
    "dtr.fit(X_train,Y_train)"
   ]
  },
  {
   "cell_type": "code",
   "execution_count": 10,
   "metadata": {},
   "outputs": [
    {
     "name": "stdout",
     "output_type": "stream",
     "text": [
      "精确度:\n",
      " 0.7732511120097049\n",
      "\n",
      "评估报告:              precision    recall  f1-score   support\n",
      "\n",
      "          0       0.49      0.71      0.58      2195\n",
      "          1       0.91      0.79      0.84      7697\n",
      "\n",
      "avg / total       0.81      0.77      0.79      9892\n",
      "\n",
      "\n",
      "混淆矩阵:\n",
      " [[1567  628]\n",
      " [1615 6082]]\n"
     ]
    }
   ],
   "source": [
    "## 检验在train 集上的分类效果\n",
    "pre_train=dtr.predict(X_train)\n",
    "\n",
    "# 精确度\n",
    "print('精确度:\\n',metrics.accuracy_score(pre_train,Y_train))\n",
    "# 模型评估报告\n",
    "print('\\n评估报告:',metrics.classification_report(pre_train,Y_train))\n",
    "print('\\n混淆矩阵:\\n',metrics.confusion_matrix(pre_train,Y_train))"
   ]
  },
  {
   "cell_type": "code",
   "execution_count": 11,
   "metadata": {},
   "outputs": [
    {
     "data": {
      "text/plain": [
       "Text(0,0.5,'Sensitivity')"
      ]
     },
     "execution_count": 11,
     "metadata": {},
     "output_type": "execute_result"
    },
    {
     "data": {
      "image/png": "[encoded data removed]",
      "text/plain": [
       "<matplotlib.figure.Figure at 0x57a27b8>"
      ]
     },
     "metadata": {},
     "output_type": "display_data"
    }
   ],
   "source": [
    "fpr,tpr,threshold = metrics.roc_curve(pre_train, Y_train)\n",
    "\n",
    "# 计算AUC的值\n",
    "roc_auc = metrics.auc(fpr,tpr)\n",
    "# 绘制面积图\n",
    "plt.stackplot(fpr, tpr, color='steelblue', alpha = 0.5, edgecolor = 'black')\n",
    "# 添加边际线\n",
    "plt.plot(fpr, tpr, color='black', lw = 1)\n",
    "# 添加对角线\n",
    "plt.plot([0,1],[0,1], color = 'red', linestyle = '--')\n",
    "# 添加文本信息\n",
    "plt.text(0.5,0.3,'ROC curve (area = %0.3f)' % roc_auc)\n",
    "# 添加x轴与y轴标签\n",
    "plt.xlabel('1-Specificity')\n",
    "plt.ylabel('Sensitivity')\n",
    "# 显示图形"
   ]
  },
  {
   "cell_type": "code",
   "execution_count": 12,
   "metadata": {},
   "outputs": [
    {
     "name": "stdout",
     "output_type": "stream",
     "text": [
      "精确度:\n",
      " 0.7254716981132076\n",
      "\n",
      "评估报告:              precision    recall  f1-score   support\n",
      "\n",
      "          0       0.43      0.59      0.50       967\n",
      "          1       0.86      0.77      0.81      3273\n",
      "\n",
      "avg / total       0.76      0.73      0.74      4240\n",
      "\n",
      "\n",
      "混淆矩阵:\n",
      " [[ 572  395]\n",
      " [ 769 2504]]\n"
     ]
    }
   ],
   "source": [
    "## 检验在test 集上的分类效果\n",
    "pre_test=dtr.predict(X_test)\n",
    "\n",
    "# 精确度\n",
    "print('精确度:\\n',metrics.accuracy_score(pre_test,Y_test))\n",
    "# 模型评估报告\n",
    "print('\\n评估报告:',metrics.classification_report(pre_test,Y_test))\n",
    "print('\\n混淆矩阵:\\n',metrics.confusion_matrix(pre_test,Y_test))"
   ]
  },
  {
   "cell_type": "code",
   "execution_count": 13,
   "metadata": {},
   "outputs": [
    {
     "data": {
      "image/png": "[encoded data removed]",
      "text/plain": [
       "<matplotlib.figure.Figure at 0x17c41128>"
      ]
     },
     "metadata": {},
     "output_type": "display_data"
    }
   ],
   "source": [
    "fpr,tpr,threshold = metrics.roc_curve(pre_test, Y_test)\n",
    "\n",
    "# 计算AUC的值\n",
    "roc_auc = metrics.auc(fpr,tpr)\n",
    "# 绘制面积图\n",
    "plt.stackplot(fpr, tpr, color='steelblue', alpha = 0.5, edgecolor = 'black')\n",
    "# 添加边际线\n",
    "plt.plot(fpr, tpr, color='black', lw = 1)\n",
    "# 添加对角线\n",
    "plt.plot([0,1],[0,1], color = 'red', linestyle = '--')\n",
    "# 添加文本信息\n",
    "plt.text(0.5,0.3,'ROC curve (area = %0.3f)' % roc_auc)\n",
    "# 添加x轴与y轴标签\n",
    "plt.xlabel('1-Specificity')\n",
    "plt.ylabel('Sensitivity')\n",
    "# 显示图形\n",
    "plt.show()"
   ]
  },
  {
   "cell_type": "code",
   "execution_count": 14,
   "metadata": {},
   "outputs": [
    {
     "ename": "InvocationException",
     "evalue": "GraphViz's executables not found",
     "output_type": "error",
     "traceback": [
      "\u001b[1;31m---------------------------------------------------------------------------\u001b[0m",
      "\u001b[1;31mInvocationException\u001b[0m                       Traceback (most recent call last)",
      "\u001b[1;32m<ipython-input-14-8f66ad5ae250>\u001b[0m in \u001b[0;36m<module>\u001b[1;34m()\u001b[0m\n\u001b[0;32m      8\u001b[0m                          special_characters=True)  \n\u001b[0;32m      9\u001b[0m \u001b[0mgraph\u001b[0m \u001b[1;33m=\u001b[0m \u001b[0mpydotplus\u001b[0m\u001b[1;33m.\u001b[0m\u001b[0mgraph_from_dot_data\u001b[0m\u001b[1;33m(\u001b[0m\u001b[0mdot_data\u001b[0m\u001b[1;33m)\u001b[0m\u001b[1;33m\u001b[0m\u001b[0m\n\u001b[1;32m---> 10\u001b[1;33m \u001b[0mgraph\u001b[0m\u001b[1;33m.\u001b[0m\u001b[0mwrite_png\u001b[0m\u001b[1;33m(\u001b[0m\u001b[1;34m'rateLoan_deciTree.png'\u001b[0m\u001b[1;33m)\u001b[0m    \u001b[1;31m#保存图像\u001b[0m\u001b[1;33m\u001b[0m\u001b[0m\n\u001b[0m\u001b[0;32m     11\u001b[0m \u001b[0mImage\u001b[0m\u001b[1;33m(\u001b[0m\u001b[0mgraph\u001b[0m\u001b[1;33m.\u001b[0m\u001b[0mcreate_png\u001b[0m\u001b[1;33m(\u001b[0m\u001b[1;33m)\u001b[0m\u001b[1;33m)\u001b[0m\u001b[1;33m\u001b[0m\u001b[0m\n",
      "\u001b[1;32mF:\\Anaconda3\\lib\\site-packages\\pydotplus\\graphviz.py\u001b[0m in \u001b[0;36m<lambda>\u001b[1;34m(path, f, prog)\u001b[0m\n\u001b[0;32m   1808\u001b[0m                 \u001b[1;32mlambda\u001b[0m \u001b[0mpath\u001b[0m\u001b[1;33m,\u001b[0m\u001b[1;33m\u001b[0m\u001b[0m\n\u001b[0;32m   1809\u001b[0m                 \u001b[0mf\u001b[0m\u001b[1;33m=\u001b[0m\u001b[0mfrmt\u001b[0m\u001b[1;33m,\u001b[0m\u001b[1;33m\u001b[0m\u001b[0m\n\u001b[1;32m-> 1810\u001b[1;33m                 \u001b[0mprog\u001b[0m\u001b[1;33m=\u001b[0m\u001b[0mself\u001b[0m\u001b[1;33m.\u001b[0m\u001b[0mprog\u001b[0m\u001b[1;33m:\u001b[0m \u001b[0mself\u001b[0m\u001b[1;33m.\u001b[0m\u001b[0mwrite\u001b[0m\u001b[1;33m(\u001b[0m\u001b[0mpath\u001b[0m\u001b[1;33m,\u001b[0m \u001b[0mformat\u001b[0m\u001b[1;33m=\u001b[0m\u001b[0mf\u001b[0m\u001b[1;33m,\u001b[0m \u001b[0mprog\u001b[0m\u001b[1;33m=\u001b[0m\u001b[0mprog\u001b[0m\u001b[1;33m)\u001b[0m\u001b[1;33m\u001b[0m\u001b[0m\n\u001b[0m\u001b[0;32m   1811\u001b[0m             )\n\u001b[0;32m   1812\u001b[0m \u001b[1;33m\u001b[0m\u001b[0m\n",
      "\u001b[1;32mF:\\Anaconda3\\lib\\site-packages\\pydotplus\\graphviz.py\u001b[0m in \u001b[0;36mwrite\u001b[1;34m(self, path, prog, format)\u001b[0m\n\u001b[0;32m   1916\u001b[0m \u001b[1;33m\u001b[0m\u001b[0m\n\u001b[0;32m   1917\u001b[0m             \u001b[1;32melse\u001b[0m\u001b[1;33m:\u001b[0m\u001b[1;33m\u001b[0m\u001b[0m\n\u001b[1;32m-> 1918\u001b[1;33m                 \u001b[0mfobj\u001b[0m\u001b[1;33m.\u001b[0m\u001b[0mwrite\u001b[0m\u001b[1;33m(\u001b[0m\u001b[0mself\u001b[0m\u001b[1;33m.\u001b[0m\u001b[0mcreate\u001b[0m\u001b[1;33m(\u001b[0m\u001b[0mprog\u001b[0m\u001b[1;33m,\u001b[0m \u001b[0mformat\u001b[0m\u001b[1;33m)\u001b[0m\u001b[1;33m)\u001b[0m\u001b[1;33m\u001b[0m\u001b[0m\n\u001b[0m\u001b[0;32m   1919\u001b[0m         \u001b[1;32mfinally\u001b[0m\u001b[1;33m:\u001b[0m\u001b[1;33m\u001b[0m\u001b[0m\n\u001b[0;32m   1920\u001b[0m             \u001b[1;32mif\u001b[0m \u001b[0mclose\u001b[0m\u001b[1;33m:\u001b[0m\u001b[1;33m\u001b[0m\u001b[0m\n",
      "\u001b[1;32mF:\\Anaconda3\\lib\\site-packages\\pydotplus\\graphviz.py\u001b[0m in \u001b[0;36mcreate\u001b[1;34m(self, prog, format)\u001b[0m\n\u001b[0;32m   1958\u001b[0m             \u001b[1;32mif\u001b[0m \u001b[0mself\u001b[0m\u001b[1;33m.\u001b[0m\u001b[0mprogs\u001b[0m \u001b[1;32mis\u001b[0m \u001b[1;32mNone\u001b[0m\u001b[1;33m:\u001b[0m\u001b[1;33m\u001b[0m\u001b[0m\n\u001b[0;32m   1959\u001b[0m                 raise InvocationException(\n\u001b[1;32m-> 1960\u001b[1;33m                     'GraphViz\\'s executables not found')\n\u001b[0m\u001b[0;32m   1961\u001b[0m \u001b[1;33m\u001b[0m\u001b[0m\n\u001b[0;32m   1962\u001b[0m         \u001b[1;32mif\u001b[0m \u001b[0mprog\u001b[0m \u001b[1;32mnot\u001b[0m \u001b[1;32min\u001b[0m \u001b[0mself\u001b[0m\u001b[1;33m.\u001b[0m\u001b[0mprogs\u001b[0m\u001b[1;33m:\u001b[0m\u001b[1;33m\u001b[0m\u001b[0m\n",
      "\u001b[1;31mInvocationException\u001b[0m: GraphViz's executables not found"
     ]
    }
   ],
   "source": [
    "from IPython.display import Image \n",
    "import graphviz \n",
    "import pydotplus \n",
    "dot_data = tree.export_graphviz(dtr, out_file=None,  #regr_1 是对应分类器\n",
    "                         feature_names=X_train.columns,   #对应特征的名字\n",
    "                         class_names=X_train.columns,    #对应类别的名字\n",
    "                         filled=True, rounded=True,  \n",
    "                         special_characters=True)  \n",
    "graph = pydotplus.graph_from_dot_data(dot_data)  \n",
    "graph.write_png('rateLoan_deciTree.png')    #保存图像\n",
    "Image(graph.create_png())"
   ]
  },
  {
   "cell_type": "code",
   "execution_count": null,
   "metadata": {},
   "outputs": [],
   "source": []
  },
  {
   "cell_type": "code",
   "execution_count": null,
   "metadata": {},
   "outputs": [],
   "source": []
  },
  {
   "cell_type": "code",
   "execution_count": null,
   "metadata": {},
   "outputs": [],
   "source": []
  },
  {
   "cell_type": "code",
   "execution_count": null,
   "metadata": {},
   "outputs": [],
   "source": []
  },
  {
   "cell_type": "code",
   "execution_count": null,
   "metadata": {},
   "outputs": [],
   "source": []
  },
  {
   "cell_type": "code",
   "execution_count": null,
   "metadata": {},
   "outputs": [],
   "source": []
  },
  {
   "cell_type": "code",
   "execution_count": null,
   "metadata": {},
   "outputs": [],
   "source": []
  },
  {
   "cell_type": "code",
   "execution_count": null,
   "metadata": {},
   "outputs": [],
   "source": []
  }
 ],
 "metadata": {
  "kernelspec": {
   "display_name": "Python 3",
   "language": "python",
   "name": "python3"
  },
  "language_info": {
   "codemirror_mode": {
    "name": "ipython",
    "version": 3
   },
   "file_extension": ".py",
   "mimetype": "text/x-python",
   "name": "python",
   "nbconvert_exporter": "python",
   "pygments_lexer": "ipython3",
   "version": "3.6.4"
  }
 },
 "nbformat": 4,
 "nbformat_minor": 2
}
