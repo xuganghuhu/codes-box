{
 "cells": [
  {
   "cell_type": "code",
   "execution_count": 24,
   "metadata": {},
   "outputs": [],
   "source": [
    "import numpy as np\n",
    "import pandas as pd\n",
    "import matplotlib.pyplot as plt\n",
    "import seaborn as sns\n",
    "import sklearn.tree\n",
    "import seaborn as sns\n",
    "from scipy import stats"
   ]
  },
  {
   "cell_type": "markdown",
   "metadata": {},
   "source": [
    "## 导入资管月底明细数据"
   ]
  },
  {
   "cell_type": "code",
   "execution_count": 2,
   "metadata": {},
   "outputs": [],
   "source": [
    "# 每月导入最新的月底明细\n",
    "dat1701=pd.read_csv('E:\\\\pydata\\\\jhjj_PQR\\\\collection_jhjj_20180131.csv')\n",
    "dat1702=pd.read_csv('E:\\\\pydata\\\\jhjj_PQR\\\\collection_jhjj_20180228.csv')\n",
    "dat1703=pd.read_csv('E:\\\\pydata\\\\jhjj_PQR\\\\collection_jhjj_20180331.csv')\n",
    "dat1704=pd.read_csv('E:\\\\pydata\\\\jhjj_PQR\\\\collection_jhjj_20180430.csv')\n",
    "dat1705=pd.read_csv('E:\\\\pydata\\\\jhjj_PQR\\\\collection_jhjj_20180531.csv')\n",
    "dat1706=pd.read_csv('E:\\\\pydata\\\\jhjj_PQR\\\\collection_jhjj_20180630.csv')\n",
    "dat1707=pd.read_csv('E:\\\\pydata\\\\jhjj_PQR\\\\collection_jhjj_20180731.csv')\n",
    "dat1708=pd.read_csv('E:\\\\pydata\\\\jhjj_PQR\\\\collection_jhjj_20180831.csv')\n",
    "dat1709=pd.read_csv('E:\\\\pydata\\\\jhjj_PQR\\\\collection_jhjj_20180930.csv')\n",
    "dat1710=pd.read_csv('E:\\\\pydata\\\\jhjj_PQR\\\\collection_jhjj_20181031.csv')\n",
    "dat1711=pd.read_csv('E:\\\\pydata\\\\jhjj_PQR\\\\collection_jhjj_20181130.csv')"
   ]
  },
  {
   "cell_type": "markdown",
   "metadata": {},
   "source": [
    "## 合成一张大表dat_bal，只包含“在还”和“逾期”的合同"
   ]
  },
  {
   "cell_type": "code",
   "execution_count": 3,
   "metadata": {},
   "outputs": [
    {
     "name": "stderr",
     "output_type": "stream",
     "text": [
      "F:\\Anaconda3\\lib\\site-packages\\ipykernel_launcher.py:4: SettingWithCopyWarning: \n",
      "A value is trying to be set on a copy of a slice from a DataFrame.\n",
      "Try using .loc[row_indexer,col_indexer] = value instead\n",
      "\n",
      "See the caveats in the documentation: http://pandas.pydata.org/pandas-docs/stable/indexing.html#indexing-view-versus-copy\n",
      "  after removing the cwd from sys.path.\n"
     ]
    },
    {
     "data": {
      "text/plain": [
       "(897876, 7)"
      ]
     },
     "execution_count": 3,
     "metadata": {},
     "output_type": "execute_result"
    }
   ],
   "source": [
    "frames=[dat1701,dat1702,dat1703,dat1704,dat1705,dat1706,dat1707,dat1708,dat1709,dat1710,dat1711]  ## concat合并\n",
    "dat_bal_all=pd.concat(frames)\n",
    "dat_bal=dat_bal_all[(dat_bal_all['odd']<=4)]     ## 只要“还款中”和“逾期”的合同\n",
    "dat_bal['contract_id']=dat_bal['CONTRACTNO']\n",
    "dat_bal.shape"
   ]
  },
  {
   "cell_type": "code",
   "execution_count": 4,
   "metadata": {},
   "outputs": [
    {
     "data": {
      "text/plain": [
       "Index(['data_date', 'CONTRACTNO', 'odd', 'cts', 'bal', 'bal_corpus',\n",
       "       'contract_id'],\n",
       "      dtype='object')"
      ]
     },
     "execution_count": 4,
     "metadata": {},
     "output_type": "execute_result"
    }
   ],
   "source": [
    "dat_bal.columns"
   ]
  },
  {
   "cell_type": "markdown",
   "metadata": {},
   "source": [
    "## 导入hue平台内的客户信息表"
   ]
  },
  {
   "cell_type": "code",
   "execution_count": 5,
   "metadata": {},
   "outputs": [],
   "source": [
    "hue_to1805=pd.read_csv('E:\\\\pydata\\\\jhjj_PQR\\\\hue_1712_1805.csv',encoding='gbk')\n",
    "hue_to1807=pd.read_csv('E:\\\\pydata\\\\jhjj_PQR\\\\hue_1806_1807.csv',encoding='gbk')\n",
    "hue_to1809=pd.read_csv('E:\\\\pydata\\\\jhjj_PQR\\\\hue_1808_1809.csv',encoding='gbk')\n",
    "hue_to1811=pd.read_csv('E:\\\\pydata\\\\jhjj_PQR\\\\hue_1810_1811.csv',encoding='gbk')"
   ]
  },
  {
   "cell_type": "code",
   "execution_count": 6,
   "metadata": {},
   "outputs": [],
   "source": [
    "frames=[hue_to1805,hue_to1807,hue_to1809,hue_to1811]\n",
    "dat_hue_all=pd.concat(frames)\n",
    "dat_hue=dat_hue_all"
   ]
  },
  {
   "cell_type": "code",
   "execution_count": 7,
   "metadata": {},
   "outputs": [
    {
     "data": {
      "text/html": [
       "<div>\n",
       "<style scoped>\n",
       "    .dataframe tbody tr th:only-of-type {\n",
       "        vertical-align: middle;\n",
       "    }\n",
       "\n",
       "    .dataframe tbody tr th {\n",
       "        vertical-align: top;\n",
       "    }\n",
       "\n",
       "    .dataframe thead th {\n",
       "        text-align: right;\n",
       "    }\n",
       "</style>\n",
       "<table border=\"1\" class=\"dataframe\">\n",
       "  <thead>\n",
       "    <tr style=\"text-align: right;\">\n",
       "      <th></th>\n",
       "      <th>contract_id</th>\n",
       "      <th>apply_type</th>\n",
       "      <th>regist_utm_source</th>\n",
       "      <th>apply_utm_source</th>\n",
       "      <th>age</th>\n",
       "      <th>sex</th>\n",
       "      <th>score</th>\n",
       "      <th>model_id</th>\n",
       "      <th>apply_time</th>\n",
       "      <th>month_apply</th>\n",
       "      <th>day_apply</th>\n",
       "    </tr>\n",
       "  </thead>\n",
       "  <tbody>\n",
       "    <tr>\n",
       "      <th>0</th>\n",
       "      <td>1.000478e+10</td>\n",
       "      <td>白名单</td>\n",
       "      <td>wechat_public</td>\n",
       "      <td>h5</td>\n",
       "      <td>24.0</td>\n",
       "      <td>男</td>\n",
       "      <td>909.0</td>\n",
       "      <td>M_MIL_XGB_20170915</td>\n",
       "      <td>2017-12-13 00:01:43</td>\n",
       "      <td>2017-12</td>\n",
       "      <td>2017-12-13</td>\n",
       "    </tr>\n",
       "    <tr>\n",
       "      <th>1</th>\n",
       "      <td>1.000478e+10</td>\n",
       "      <td>白名单</td>\n",
       "      <td>信用管家</td>\n",
       "      <td>h5</td>\n",
       "      <td>34.0</td>\n",
       "      <td>男</td>\n",
       "      <td>980.0</td>\n",
       "      <td>M_MIL_XGB_20170915</td>\n",
       "      <td>2017-12-13 00:20:17</td>\n",
       "      <td>2017-12</td>\n",
       "      <td>2017-12-13</td>\n",
       "    </tr>\n",
       "    <tr>\n",
       "      <th>2</th>\n",
       "      <td>1.000478e+10</td>\n",
       "      <td>白名单</td>\n",
       "      <td>融之家</td>\n",
       "      <td>h5</td>\n",
       "      <td>49.0</td>\n",
       "      <td>男</td>\n",
       "      <td>976.0</td>\n",
       "      <td>M_MIL_XGB_20170915</td>\n",
       "      <td>2017-12-13 00:27:19</td>\n",
       "      <td>2017-12</td>\n",
       "      <td>2017-12-13</td>\n",
       "    </tr>\n",
       "    <tr>\n",
       "      <th>3</th>\n",
       "      <td>1.000478e+10</td>\n",
       "      <td>再贷</td>\n",
       "      <td>web</td>\n",
       "      <td>h5</td>\n",
       "      <td>28.0</td>\n",
       "      <td>男</td>\n",
       "      <td>0.0</td>\n",
       "      <td>M_MIL_XGB_20170915</td>\n",
       "      <td>2017-12-13 00:32:14</td>\n",
       "      <td>2017-12</td>\n",
       "      <td>2017-12-13</td>\n",
       "    </tr>\n",
       "    <tr>\n",
       "      <th>4</th>\n",
       "      <td>1.000478e+10</td>\n",
       "      <td>白名单</td>\n",
       "      <td>融之家_联合</td>\n",
       "      <td>OA_86</td>\n",
       "      <td>54.0</td>\n",
       "      <td>男</td>\n",
       "      <td>978.0</td>\n",
       "      <td>M_MIL_XGB_20170915</td>\n",
       "      <td>2017-12-13 00:40:21</td>\n",
       "      <td>2017-12</td>\n",
       "      <td>2017-12-13</td>\n",
       "    </tr>\n",
       "  </tbody>\n",
       "</table>\n",
       "</div>"
      ],
      "text/plain": [
       "    contract_id apply_type regist_utm_source apply_utm_source   age sex  \\\n",
       "0  1.000478e+10        白名单     wechat_public               h5  24.0   男   \n",
       "1  1.000478e+10        白名单              信用管家               h5  34.0   男   \n",
       "2  1.000478e+10        白名单               融之家               h5  49.0   男   \n",
       "3  1.000478e+10         再贷               web               h5  28.0   男   \n",
       "4  1.000478e+10        白名单            融之家_联合            OA_86  54.0   男   \n",
       "\n",
       "   score            model_id           apply_time month_apply   day_apply  \n",
       "0  909.0  M_MIL_XGB_20170915  2017-12-13 00:01:43     2017-12  2017-12-13  \n",
       "1  980.0  M_MIL_XGB_20170915  2017-12-13 00:20:17     2017-12  2017-12-13  \n",
       "2  976.0  M_MIL_XGB_20170915  2017-12-13 00:27:19     2017-12  2017-12-13  \n",
       "3    0.0  M_MIL_XGB_20170915  2017-12-13 00:32:14     2017-12  2017-12-13  \n",
       "4  978.0  M_MIL_XGB_20170915  2017-12-13 00:40:21     2017-12  2017-12-13  "
      ]
     },
     "execution_count": 7,
     "metadata": {},
     "output_type": "execute_result"
    }
   ],
   "source": [
    "dat_hue.head()"
   ]
  },
  {
   "cell_type": "markdown",
   "metadata": {},
   "source": [
    "## merge匹配余额的特征信息"
   ]
  },
  {
   "cell_type": "code",
   "execution_count": 8,
   "metadata": {},
   "outputs": [],
   "source": [
    "dat=pd.merge(dat_bal,dat_hue,how='left')\n",
    "dat_newMil=dat[dat['month_apply']>= '2017-12']"
   ]
  },
  {
   "cell_type": "code",
   "execution_count": 9,
   "metadata": {},
   "outputs": [
    {
     "name": "stderr",
     "output_type": "stream",
     "text": [
      "F:\\Anaconda3\\lib\\site-packages\\ipykernel_launcher.py:2: SettingWithCopyWarning: \n",
      "A value is trying to be set on a copy of a slice from a DataFrame.\n",
      "Try using .loc[row_indexer,col_indexer] = value instead\n",
      "\n",
      "See the caveats in the documentation: http://pandas.pydata.org/pandas-docs/stable/indexing.html#indexing-view-versus-copy\n",
      "  \n",
      "F:\\Anaconda3\\lib\\site-packages\\ipykernel_launcher.py:7: SettingWithCopyWarning: \n",
      "A value is trying to be set on a copy of a slice from a DataFrame.\n",
      "Try using .loc[row_indexer,col_indexer] = value instead\n",
      "\n",
      "See the caveats in the documentation: http://pandas.pydata.org/pandas-docs/stable/indexing.html#indexing-view-versus-copy\n",
      "  import sys\n",
      "F:\\Anaconda3\\lib\\site-packages\\ipykernel_launcher.py:14: SettingWithCopyWarning: \n",
      "A value is trying to be set on a copy of a slice from a DataFrame.\n",
      "Try using .loc[row_indexer,col_indexer] = value instead\n",
      "\n",
      "See the caveats in the documentation: http://pandas.pydata.org/pandas-docs/stable/indexing.html#indexing-view-versus-copy\n",
      "  \n"
     ]
    }
   ],
   "source": [
    "# 数据框操作\n",
    "dat_newMil['score_cut']=dat_newMil['score'].apply(lambda x: '900-1000' if x >=900 \n",
    "                          else '800-900' if x >=800 \n",
    "                          else '700-800' if x >=700\n",
    "                          else '600-700' if x >=600\n",
    "                          else '<600')\n",
    "dat_newMil['age_cut']=dat_newMil['age'].apply(lambda x: '-24' if x<=24 \n",
    "                                              else '25-29' if x<=29\n",
    "                                              else '30-34' if x<=34\n",
    "                                              else '35-39' if x<=39\n",
    "                                              else '40-44' if x<=44\n",
    "                                              else '45-59' if x<=59\n",
    "                                              else '60+')\n",
    "dat_newMil['channel_reg']=dat_newMil['regist_utm_source'].apply(lambda x: x if x in ['wechat_browser','android','融之家','借了吗','现金白卡','信用无忧','信用管家']\n",
    "                                                                else '现金白卡' if x=='现金白卡2' \n",
    "                                                                else '其他渠道')\n",
    "                                                                                                                                "
   ]
  },
  {
   "cell_type": "code",
   "execution_count": 10,
   "metadata": {},
   "outputs": [
    {
     "data": {
      "text/html": [
       "<div>\n",
       "<style scoped>\n",
       "    .dataframe tbody tr th:only-of-type {\n",
       "        vertical-align: middle;\n",
       "    }\n",
       "\n",
       "    .dataframe tbody tr th {\n",
       "        vertical-align: top;\n",
       "    }\n",
       "\n",
       "    .dataframe thead th {\n",
       "        text-align: right;\n",
       "    }\n",
       "</style>\n",
       "<table border=\"1\" class=\"dataframe\">\n",
       "  <thead>\n",
       "    <tr style=\"text-align: right;\">\n",
       "      <th></th>\n",
       "      <th>data_date</th>\n",
       "      <th>CONTRACTNO</th>\n",
       "      <th>odd</th>\n",
       "      <th>cts</th>\n",
       "      <th>bal</th>\n",
       "      <th>bal_corpus</th>\n",
       "      <th>contract_id</th>\n",
       "      <th>apply_type</th>\n",
       "      <th>regist_utm_source</th>\n",
       "      <th>apply_utm_source</th>\n",
       "      <th>age</th>\n",
       "      <th>sex</th>\n",
       "      <th>score</th>\n",
       "      <th>model_id</th>\n",
       "      <th>apply_time</th>\n",
       "      <th>month_apply</th>\n",
       "      <th>day_apply</th>\n",
       "      <th>score_cut</th>\n",
       "      <th>age_cut</th>\n",
       "      <th>channel_reg</th>\n",
       "    </tr>\n",
       "  </thead>\n",
       "  <tbody>\n",
       "    <tr>\n",
       "      <th>59106</th>\n",
       "      <td>2018/1/31</td>\n",
       "      <td>10004781704</td>\n",
       "      <td>0</td>\n",
       "      <td>1</td>\n",
       "      <td>1720.0</td>\n",
       "      <td>1600.0</td>\n",
       "      <td>10004781704</td>\n",
       "      <td>白名单</td>\n",
       "      <td>wechat_public</td>\n",
       "      <td>h5</td>\n",
       "      <td>24.0</td>\n",
       "      <td>男</td>\n",
       "      <td>909.0</td>\n",
       "      <td>M_MIL_XGB_20170915</td>\n",
       "      <td>2017-12-13 00:01:43</td>\n",
       "      <td>2017-12</td>\n",
       "      <td>2017-12-13</td>\n",
       "      <td>900-1000</td>\n",
       "      <td>-24</td>\n",
       "      <td>其他渠道</td>\n",
       "    </tr>\n",
       "    <tr>\n",
       "      <th>59107</th>\n",
       "      <td>2018/1/31</td>\n",
       "      <td>10004781749</td>\n",
       "      <td>0</td>\n",
       "      <td>1</td>\n",
       "      <td>1720.0</td>\n",
       "      <td>1600.0</td>\n",
       "      <td>10004781749</td>\n",
       "      <td>白名单</td>\n",
       "      <td>信用管家</td>\n",
       "      <td>h5</td>\n",
       "      <td>34.0</td>\n",
       "      <td>男</td>\n",
       "      <td>980.0</td>\n",
       "      <td>M_MIL_XGB_20170915</td>\n",
       "      <td>2017-12-13 00:20:17</td>\n",
       "      <td>2017-12</td>\n",
       "      <td>2017-12-13</td>\n",
       "      <td>900-1000</td>\n",
       "      <td>30-34</td>\n",
       "      <td>信用管家</td>\n",
       "    </tr>\n",
       "    <tr>\n",
       "      <th>59108</th>\n",
       "      <td>2018/1/31</td>\n",
       "      <td>10004781757</td>\n",
       "      <td>0</td>\n",
       "      <td>1</td>\n",
       "      <td>1720.0</td>\n",
       "      <td>1600.0</td>\n",
       "      <td>10004781757</td>\n",
       "      <td>白名单</td>\n",
       "      <td>融之家</td>\n",
       "      <td>h5</td>\n",
       "      <td>49.0</td>\n",
       "      <td>男</td>\n",
       "      <td>976.0</td>\n",
       "      <td>M_MIL_XGB_20170915</td>\n",
       "      <td>2017-12-13 00:27:19</td>\n",
       "      <td>2017-12</td>\n",
       "      <td>2017-12-13</td>\n",
       "      <td>900-1000</td>\n",
       "      <td>45-59</td>\n",
       "      <td>融之家</td>\n",
       "    </tr>\n",
       "    <tr>\n",
       "      <th>59109</th>\n",
       "      <td>2018/1/31</td>\n",
       "      <td>10004781780</td>\n",
       "      <td>0</td>\n",
       "      <td>1</td>\n",
       "      <td>1720.0</td>\n",
       "      <td>1600.0</td>\n",
       "      <td>10004781780</td>\n",
       "      <td>再贷</td>\n",
       "      <td>web</td>\n",
       "      <td>h5</td>\n",
       "      <td>28.0</td>\n",
       "      <td>男</td>\n",
       "      <td>0.0</td>\n",
       "      <td>M_MIL_XGB_20170915</td>\n",
       "      <td>2017-12-13 00:32:14</td>\n",
       "      <td>2017-12</td>\n",
       "      <td>2017-12-13</td>\n",
       "      <td>&lt;600</td>\n",
       "      <td>25-29</td>\n",
       "      <td>其他渠道</td>\n",
       "    </tr>\n",
       "    <tr>\n",
       "      <th>59110</th>\n",
       "      <td>2018/1/31</td>\n",
       "      <td>10004781792</td>\n",
       "      <td>0</td>\n",
       "      <td>1</td>\n",
       "      <td>1720.0</td>\n",
       "      <td>1600.0</td>\n",
       "      <td>10004781792</td>\n",
       "      <td>白名单</td>\n",
       "      <td>融之家_联合</td>\n",
       "      <td>OA_86</td>\n",
       "      <td>54.0</td>\n",
       "      <td>男</td>\n",
       "      <td>978.0</td>\n",
       "      <td>M_MIL_XGB_20170915</td>\n",
       "      <td>2017-12-13 00:40:21</td>\n",
       "      <td>2017-12</td>\n",
       "      <td>2017-12-13</td>\n",
       "      <td>900-1000</td>\n",
       "      <td>45-59</td>\n",
       "      <td>其他渠道</td>\n",
       "    </tr>\n",
       "  </tbody>\n",
       "</table>\n",
       "</div>"
      ],
      "text/plain": [
       "       data_date   CONTRACTNO  odd  cts     bal  bal_corpus  contract_id  \\\n",
       "59106  2018/1/31  10004781704    0    1  1720.0      1600.0  10004781704   \n",
       "59107  2018/1/31  10004781749    0    1  1720.0      1600.0  10004781749   \n",
       "59108  2018/1/31  10004781757    0    1  1720.0      1600.0  10004781757   \n",
       "59109  2018/1/31  10004781780    0    1  1720.0      1600.0  10004781780   \n",
       "59110  2018/1/31  10004781792    0    1  1720.0      1600.0  10004781792   \n",
       "\n",
       "      apply_type regist_utm_source apply_utm_source   age sex  score  \\\n",
       "59106        白名单     wechat_public               h5  24.0   男  909.0   \n",
       "59107        白名单              信用管家               h5  34.0   男  980.0   \n",
       "59108        白名单               融之家               h5  49.0   男  976.0   \n",
       "59109         再贷               web               h5  28.0   男    0.0   \n",
       "59110        白名单            融之家_联合            OA_86  54.0   男  978.0   \n",
       "\n",
       "                 model_id           apply_time month_apply   day_apply  \\\n",
       "59106  M_MIL_XGB_20170915  2017-12-13 00:01:43     2017-12  2017-12-13   \n",
       "59107  M_MIL_XGB_20170915  2017-12-13 00:20:17     2017-12  2017-12-13   \n",
       "59108  M_MIL_XGB_20170915  2017-12-13 00:27:19     2017-12  2017-12-13   \n",
       "59109  M_MIL_XGB_20170915  2017-12-13 00:32:14     2017-12  2017-12-13   \n",
       "59110  M_MIL_XGB_20170915  2017-12-13 00:40:21     2017-12  2017-12-13   \n",
       "\n",
       "      score_cut age_cut channel_reg  \n",
       "59106  900-1000     -24        其他渠道  \n",
       "59107  900-1000   30-34        信用管家  \n",
       "59108  900-1000   45-59         融之家  \n",
       "59109      <600   25-29        其他渠道  \n",
       "59110  900-1000   45-59        其他渠道  "
      ]
     },
     "execution_count": 10,
     "metadata": {},
     "output_type": "execute_result"
    }
   ],
   "source": [
    "dat_newMil.head()"
   ]
  },
  {
   "cell_type": "code",
   "execution_count": 68,
   "metadata": {},
   "outputs": [],
   "source": [
    "#dat_newMil[(dat_newMil['data_date']=='2018/11/30') & (dat_newMil['odd']<=3)]['bal_corpus'].sum()"
   ]
  },
  {
   "cell_type": "code",
   "execution_count": 67,
   "metadata": {},
   "outputs": [],
   "source": [
    "#dat_newMil[(dat_newMil['odd']<=3)&(dat_newMil['cts']==9)]"
   ]
  },
  {
   "cell_type": "markdown",
   "metadata": {},
   "source": [
    "## 聚合瘦身"
   ]
  },
  {
   "cell_type": "code",
   "execution_count": 63,
   "metadata": {},
   "outputs": [
    {
     "name": "stderr",
     "output_type": "stream",
     "text": [
      "F:\\Anaconda3\\lib\\site-packages\\ipykernel_launcher.py:3: SettingWithCopyWarning: \n",
      "A value is trying to be set on a copy of a slice from a DataFrame.\n",
      "Try using .loc[row_indexer,col_indexer] = value instead\n",
      "\n",
      "See the caveats in the documentation: http://pandas.pydata.org/pandas-docs/stable/indexing.html#indexing-view-versus-copy\n",
      "  This is separate from the ipykernel package so we can avoid doing imports until\n",
      "F:\\Anaconda3\\lib\\site-packages\\ipykernel_launcher.py:4: SettingWithCopyWarning: \n",
      "A value is trying to be set on a copy of a slice from a DataFrame.\n",
      "Try using .loc[row_indexer,col_indexer] = value instead\n",
      "\n",
      "See the caveats in the documentation: http://pandas.pydata.org/pandas-docs/stable/indexing.html#indexing-view-versus-copy\n",
      "  after removing the cwd from sys.path.\n",
      "F:\\Anaconda3\\lib\\site-packages\\ipykernel_launcher.py:5: SettingWithCopyWarning: \n",
      "A value is trying to be set on a copy of a slice from a DataFrame.\n",
      "Try using .loc[row_indexer,col_indexer] = value instead\n",
      "\n",
      "See the caveats in the documentation: http://pandas.pydata.org/pandas-docs/stable/indexing.html#indexing-view-versus-copy\n",
      "  \"\"\"\n"
     ]
    }
   ],
   "source": [
    "# 预处理 解决数据类型问题及缺失值问题\n",
    "dat_newMil.dtypes\n",
    "dat_newMil['odd']=dat_newMil['odd'].astype(np.object)\n",
    "dat_newMil['cts']=dat_newMil['cts'].astype(np.object)\n",
    "dat_newMil['model_id']=dat_newMil['model_id'].fillna('null')\n",
    "#dat_newMil.dtypes"
   ]
  },
  {
   "cell_type": "code",
   "execution_count": 64,
   "metadata": {},
   "outputs": [],
   "source": [
    "# 聚合\n",
    "groupby_key=['data_date','odd','cts','sex','model_id','month_apply','score_cut','age_cut','channel_reg']\n",
    "dat_grp=dat_newMil.groupby(by=groupby_key,as_index=False).agg({'bal_corpus':sum})"
   ]
  },
  {
   "cell_type": "code",
   "execution_count": 14,
   "metadata": {},
   "outputs": [
    {
     "data": {
      "text/plain": [
       "Index(['data_date', 'CONTRACTNO', 'odd', 'cts', 'bal', 'bal_corpus',\n",
       "       'contract_id', 'apply_type', 'regist_utm_source', 'apply_utm_source',\n",
       "       'age', 'sex', 'score', 'model_id', 'apply_time', 'month_apply',\n",
       "       'day_apply', 'score_cut', 'age_cut', 'channel_reg'],\n",
       "      dtype='object')"
      ]
     },
     "execution_count": 14,
     "metadata": {},
     "output_type": "execute_result"
    }
   ],
   "source": [
    "dat_newMil.columns"
   ]
  },
  {
   "cell_type": "code",
   "execution_count": 15,
   "metadata": {},
   "outputs": [
    {
     "data": {
      "text/html": [
       "<div>\n",
       "<style scoped>\n",
       "    .dataframe tbody tr th:only-of-type {\n",
       "        vertical-align: middle;\n",
       "    }\n",
       "\n",
       "    .dataframe tbody tr th {\n",
       "        vertical-align: top;\n",
       "    }\n",
       "\n",
       "    .dataframe thead th {\n",
       "        text-align: right;\n",
       "    }\n",
       "</style>\n",
       "<table border=\"1\" class=\"dataframe\">\n",
       "  <thead>\n",
       "    <tr style=\"text-align: right;\">\n",
       "      <th></th>\n",
       "      <th>data_date</th>\n",
       "      <th>odd</th>\n",
       "      <th>cts</th>\n",
       "      <th>regist_utm_source</th>\n",
       "      <th>apply_utm_source</th>\n",
       "      <th>sex</th>\n",
       "      <th>model_id</th>\n",
       "      <th>month_apply</th>\n",
       "      <th>score_cut</th>\n",
       "      <th>age_cut</th>\n",
       "      <th>channel_reg</th>\n",
       "      <th>bal_corpus</th>\n",
       "    </tr>\n",
       "  </thead>\n",
       "  <tbody>\n",
       "    <tr>\n",
       "      <th>0</th>\n",
       "      <td>2018/1/31</td>\n",
       "      <td>0</td>\n",
       "      <td>1</td>\n",
       "      <td>99贷</td>\n",
       "      <td>OA_109</td>\n",
       "      <td>男</td>\n",
       "      <td>M_MIL_XGB_TD_20171027</td>\n",
       "      <td>2018-01</td>\n",
       "      <td>800-900</td>\n",
       "      <td>40-44</td>\n",
       "      <td>其他渠道</td>\n",
       "      <td>2000.0</td>\n",
       "    </tr>\n",
       "    <tr>\n",
       "      <th>1</th>\n",
       "      <td>2018/1/31</td>\n",
       "      <td>0</td>\n",
       "      <td>1</td>\n",
       "      <td>99贷</td>\n",
       "      <td>OA_116</td>\n",
       "      <td>女</td>\n",
       "      <td>M_MIL_XGB_TD_20171027</td>\n",
       "      <td>2018-01</td>\n",
       "      <td>800-900</td>\n",
       "      <td>30-34</td>\n",
       "      <td>其他渠道</td>\n",
       "      <td>2000.0</td>\n",
       "    </tr>\n",
       "    <tr>\n",
       "      <th>2</th>\n",
       "      <td>2018/1/31</td>\n",
       "      <td>0</td>\n",
       "      <td>1</td>\n",
       "      <td>99贷</td>\n",
       "      <td>h5</td>\n",
       "      <td>女</td>\n",
       "      <td>M_MIL_XGB_20170915</td>\n",
       "      <td>2017-12</td>\n",
       "      <td>900-1000</td>\n",
       "      <td>25-29</td>\n",
       "      <td>其他渠道</td>\n",
       "      <td>6400.0</td>\n",
       "    </tr>\n",
       "    <tr>\n",
       "      <th>3</th>\n",
       "      <td>2018/1/31</td>\n",
       "      <td>0</td>\n",
       "      <td>1</td>\n",
       "      <td>99贷</td>\n",
       "      <td>h5</td>\n",
       "      <td>女</td>\n",
       "      <td>M_MIL_XGB_20170915</td>\n",
       "      <td>2017-12</td>\n",
       "      <td>900-1000</td>\n",
       "      <td>30-34</td>\n",
       "      <td>其他渠道</td>\n",
       "      <td>3200.0</td>\n",
       "    </tr>\n",
       "    <tr>\n",
       "      <th>4</th>\n",
       "      <td>2018/1/31</td>\n",
       "      <td>0</td>\n",
       "      <td>1</td>\n",
       "      <td>99贷</td>\n",
       "      <td>h5</td>\n",
       "      <td>女</td>\n",
       "      <td>M_MIL_XGB_20170915</td>\n",
       "      <td>2017-12</td>\n",
       "      <td>900-1000</td>\n",
       "      <td>40-44</td>\n",
       "      <td>其他渠道</td>\n",
       "      <td>1600.0</td>\n",
       "    </tr>\n",
       "  </tbody>\n",
       "</table>\n",
       "</div>"
      ],
      "text/plain": [
       "   data_date  odd  cts regist_utm_source apply_utm_source sex  \\\n",
       "0  2018/1/31    0    1               99贷           OA_109   男   \n",
       "1  2018/1/31    0    1               99贷           OA_116   女   \n",
       "2  2018/1/31    0    1               99贷               h5   女   \n",
       "3  2018/1/31    0    1               99贷               h5   女   \n",
       "4  2018/1/31    0    1               99贷               h5   女   \n",
       "\n",
       "                model_id month_apply score_cut age_cut channel_reg  bal_corpus  \n",
       "0  M_MIL_XGB_TD_20171027     2018-01   800-900   40-44        其他渠道      2000.0  \n",
       "1  M_MIL_XGB_TD_20171027     2018-01   800-900   30-34        其他渠道      2000.0  \n",
       "2     M_MIL_XGB_20170915     2017-12  900-1000   25-29        其他渠道      6400.0  \n",
       "3     M_MIL_XGB_20170915     2017-12  900-1000   30-34        其他渠道      3200.0  \n",
       "4     M_MIL_XGB_20170915     2017-12  900-1000   40-44        其他渠道      1600.0  "
      ]
     },
     "execution_count": 15,
     "metadata": {},
     "output_type": "execute_result"
    }
   ],
   "source": [
    "dat_grp.head()"
   ]
  },
  {
   "cell_type": "markdown",
   "metadata": {},
   "source": [
    "## 导出至CSV"
   ]
  },
  {
   "cell_type": "code",
   "execution_count": null,
   "metadata": {},
   "outputs": [],
   "source": [
    "## 导出明细CSV\n",
    "dat_newMil.to_csv('E:\\\\pydata\\\\jhjj_PQR\\\\jhjj_pqr.csv',encoding='gbk')"
   ]
  },
  {
   "cell_type": "code",
   "execution_count": 65,
   "metadata": {},
   "outputs": [],
   "source": [
    "## 导出聚合CSV\n",
    "dat_grp.to_csv('E:\\\\pydata\\\\jhjj_PQR\\\\jhjj_pqr_grp.csv',encoding='gbk')"
   ]
  }
 ],
 "metadata": {
  "kernelspec": {
   "display_name": "Python 3",
   "language": "python",
   "name": "python3"
  },
  "language_info": {
   "codemirror_mode": {
    "name": "ipython",
    "version": 3
   },
   "file_extension": ".py",
   "mimetype": "text/x-python",
   "name": "python",
   "nbconvert_exporter": "python",
   "pygments_lexer": "ipython3",
   "version": "3.6.4"
  }
 },
 "nbformat": 4,
 "nbformat_minor": 2
}
