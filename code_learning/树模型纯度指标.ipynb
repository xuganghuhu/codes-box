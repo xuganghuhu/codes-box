{
 "cells": [
  {
   "cell_type": "markdown",
   "metadata": {},
   "source": [
    "## 熵  \n",
    "$$H(X)=-\\displaystyle \\sum^{\\\\n}_{i = 1}P(x_i){\\log_2(P(x_i)}$$"
   ]
  },
  {
   "cell_type": "markdown",
   "metadata": {},
   "source": [
    "## 基尼系数\n",
    "$$Gini(p)=1-\\displaystyle \\sum^{\\\\K}_{k = 1}{p_k(1-p_k)}=1-\\displaystyle \\sum^{\\\\K}_{k = 1}{p_{x_i}}^2$$"
   ]
  },
  {
   "cell_type": "markdown",
   "metadata": {},
   "source": [
    "## IV值\n",
    "$$WOE_i=ln(\\frac{p_{y_i}}{p_{n_i}})=ln(\\frac{y_i}{y_s}/\\frac{n_i}{n_s})$$\n",
    "\n",
    "$$ IV_i=(p_{y_I}-p_{n_i})*WOE_i $$\n",
    "\n",
    "$$ IV=\\displaystyle \\sum^{\\\\n}_i{IV_i} $$"
   ]
  },
  {
   "cell_type": "code",
   "execution_count": null,
   "metadata": {},
   "outputs": [],
   "source": []
  },
  {
   "cell_type": "code",
   "execution_count": null,
   "metadata": {},
   "outputs": [],
   "source": []
  },
  {
   "cell_type": "code",
   "execution_count": null,
   "metadata": {},
   "outputs": [],
   "source": []
  }
 ],
 "metadata": {
  "kernelspec": {
   "display_name": "Python 3",
   "language": "python",
   "name": "python3"
  },
  "language_info": {
   "codemirror_mode": {
    "name": "ipython",
    "version": 3
   },
   "file_extension": ".py",
   "mimetype": "text/x-python",
   "name": "python",
   "nbconvert_exporter": "python",
   "pygments_lexer": "ipython3",
   "version": "3.6.4"
  }
 },
 "nbformat": 4,
 "nbformat_minor": 2
}
