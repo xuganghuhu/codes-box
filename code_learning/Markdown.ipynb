{
 "cells": [
  {
   "cell_type": "markdown",
   "metadata": {},
   "source": [
    "# 数学公式"
   ]
  },
  {
   "cell_type": "markdown",
   "metadata": {},
   "source": [
    "插入公式 $xyz$  \n",
    "插入公式（公式放中间） $$xyz$$  \n",
    "上标 $X^4$ , $x^y$  \n",
    "下标 $X_4$ , $x_y$"
   ]
  },
  {
   "cell_type": "markdown",
   "metadata": {},
   "source": [
    "上大括号  $\\overbrace{a+b+c+d}^{2.0}$"
   ]
  },
  {
   "cell_type": "markdown",
   "metadata": {},
   "source": [
    "分式运算  $\\frac{x+y}{y+z}$"
   ]
  },
  {
   "cell_type": "markdown",
   "metadata": {},
   "source": [
    "积分运算  $\\int^{\\infty}_{0}{xdx}$"
   ]
  },
  {
   "cell_type": "markdown",
   "metadata": {},
   "source": [
    "积分运算  $\\int^{\\infty}_{0}{xdx}$"
   ]
  },
  {
   "cell_type": "markdown",
   "metadata": {},
   "source": [
    "求和 $\\sum^{x \\to \\infty}_{y \\to 0}{\\frac{x}{y}}$"
   ]
  },
  {
   "cell_type": "markdown",
   "metadata": {},
   "source": [
    "求和 $\\sum^{x \\to \\infty}_{y \\to 0}{\\frac{x}{y}}$"
   ]
  },
  {
   "cell_type": "markdown",
   "metadata": {},
   "source": [
    "求和 $\\displaystyle \\sum^{x \\to \\infty}_{y \\to 0}{\\frac{x}{y}}$"
   ]
  },
  {
   "cell_type": "markdown",
   "metadata": {},
   "source": [
    "求和 $\\displaystyle \\sum^{x \\to \\infty}_{y \\to 0}{\\frac{x}{y}}$"
   ]
  },
  {
   "cell_type": "markdown",
   "metadata": {},
   "source": [
    "对数 $\\log_2(x)$"
   ]
  },
  {
   "cell_type": "markdown",
   "metadata": {},
   "source": [
    "$Ent=-\\displaystyle \\sum^{x \\to \\infty}_{y \\to 0}{\\frac{x}{y}}$"
   ]
  },
  {
   "cell_type": "markdown",
   "metadata": {},
   "source": [
    "熵  \n",
    "$-\\displaystyle \\sum^{\\\\n}_{i = 1}P_{x_i}{\\log_2(P_{x_i})}$"
   ]
  },
  {
   "cell_type": "markdown",
   "metadata": {},
   "source": [
    "# 熵  \n",
    "$$-\\displaystyle \\sum^{\\\\n}_{i = 1}P_{x_i}{\\log_2(P_{x_i})}$$"
   ]
  },
  {
   "cell_type": "markdown",
   "metadata": {},
   "source": [
    "基尼系数\n",
    "$1-\\displaystyle \\sum^{\\\\n}_{i = 1}{P_{x_i}}^2$"
   ]
  },
  {
   "cell_type": "markdown",
   "metadata": {},
   "source": [
    "# 基尼系数\n",
    "$$1-\\displaystyle \\sum^{to\\\\n}_{i = 1}{P_{x_i}}^2$$"
   ]
  },
  {
   "cell_type": "code",
   "execution_count": null,
   "metadata": {},
   "outputs": [],
   "source": []
  }
 ],
 "metadata": {
  "kernelspec": {
   "display_name": "Python 3",
   "language": "python",
   "name": "python3"
  },
  "language_info": {
   "codemirror_mode": {
    "name": "ipython",
    "version": 3
   },
   "file_extension": ".py",
   "mimetype": "text/x-python",
   "name": "python",
   "nbconvert_exporter": "python",
   "pygments_lexer": "ipython3",
   "version": "3.6.4"
  }
 },
 "nbformat": 4,
 "nbformat_minor": 2
}
